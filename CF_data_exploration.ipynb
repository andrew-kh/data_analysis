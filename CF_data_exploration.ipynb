{
 "cells": [
  {
   "cell_type": "markdown",
   "metadata": {},
   "source": [
    "# Corporación Favorita Grocery Sales Forecasting - Data Exploration"
   ]
  },
  {
   "cell_type": "markdown",
   "metadata": {
    "collapsed": true
   },
   "source": [
    "### _Based on data from https://www.kaggle.com/c/favorita-grocery-sales-forecasting/data_"
   ]
  },
  {
   "cell_type": "code",
   "execution_count": 1,
   "metadata": {
    "collapsed": false
   },
   "outputs": [],
   "source": [
    "suppressPackageStartupMessages(library(dplyr))\n",
    "suppressPackageStartupMessages(library(purrr))\n",
    "\n",
    "setwd(\"\")"
   ]
  },
  {
   "cell_type": "markdown",
   "metadata": {},
   "source": [
    "<p style=\"text-align: center; color:green; font-size: 180%; font-weight: bold\">Part 1. Study of tables with support data - stores and items</p>"
   ]
  },
  {
   "cell_type": "code",
   "execution_count": 2,
   "metadata": {
    "collapsed": true
   },
   "outputs": [],
   "source": [
    "# Function to check structure of dataset's support tables based on different criteria\n",
    "# df - Data.Frame object\n",
    "# col_name - str variable - name of column to summarise table by\n",
    "# tag - str variable - set custom name for the second column of the output table\n",
    "\n",
    "count_by <- function(df, col_name, tag = \"num\") {\n",
    "  counted <- df %>% group_by(df$col_name) %>% summarise(count = n()) %>% arrange(desc(count))\n",
    "  names(counted) <- c(col_name, tag)\n",
    "  return(counted)\n",
    "}"
   ]
  },
  {
   "cell_type": "markdown",
   "metadata": {},
   "source": [
    "<p style=\"text-align: center; color:green; font-size: 150%; font-weight: bold\">Stores</p>"
   ]
  },
  {
   "cell_type": "code",
   "execution_count": 3,
   "metadata": {
    "collapsed": false
   },
   "outputs": [
    {
     "data": {
      "text/html": [
       "<table>\n",
       "<thead><tr><th scope=col>store_nbr</th><th scope=col>city</th><th scope=col>state</th><th scope=col>type</th><th scope=col>cluster</th></tr></thead>\n",
       "<tbody>\n",
       "\t<tr><td>1                             </td><td>Quito                         </td><td>Pichincha                     </td><td>D                             </td><td>13                            </td></tr>\n",
       "\t<tr><td>2                             </td><td>Quito                         </td><td>Pichincha                     </td><td>D                             </td><td>13                            </td></tr>\n",
       "\t<tr><td>3                             </td><td>Quito                         </td><td>Pichincha                     </td><td>D                             </td><td> 8                            </td></tr>\n",
       "\t<tr><td>4                             </td><td>Quito                         </td><td>Pichincha                     </td><td>D                             </td><td> 9                            </td></tr>\n",
       "\t<tr><td>5                             </td><td>Santo Domingo                 </td><td>Santo Domingo de los Tsachilas</td><td>D                             </td><td> 4                            </td></tr>\n",
       "\t<tr><td>6                             </td><td>Quito                         </td><td>Pichincha                     </td><td>D                             </td><td>13                            </td></tr>\n",
       "</tbody>\n",
       "</table>\n"
      ],
      "text/latex": [
       "\\begin{tabular}{r|lllll}\n",
       " store\\_nbr & city & state & type & cluster\\\\\n",
       "\\hline\n",
       "\t 1                              & Quito                          & Pichincha                      & D                              & 13                            \\\\\n",
       "\t 2                              & Quito                          & Pichincha                      & D                              & 13                            \\\\\n",
       "\t 3                              & Quito                          & Pichincha                      & D                              &  8                            \\\\\n",
       "\t 4                              & Quito                          & Pichincha                      & D                              &  9                            \\\\\n",
       "\t 5                              & Santo Domingo                  & Santo Domingo de los Tsachilas & D                              &  4                            \\\\\n",
       "\t 6                              & Quito                          & Pichincha                      & D                              & 13                            \\\\\n",
       "\\end{tabular}\n"
      ],
      "text/markdown": [
       "\n",
       "store_nbr | city | state | type | cluster | \n",
       "|---|---|---|---|---|---|\n",
       "| 1                              | Quito                          | Pichincha                      | D                              | 13                             | \n",
       "| 2                              | Quito                          | Pichincha                      | D                              | 13                             | \n",
       "| 3                              | Quito                          | Pichincha                      | D                              |  8                             | \n",
       "| 4                              | Quito                          | Pichincha                      | D                              |  9                             | \n",
       "| 5                              | Santo Domingo                  | Santo Domingo de los Tsachilas | D                              |  4                             | \n",
       "| 6                              | Quito                          | Pichincha                      | D                              | 13                             | \n",
       "\n",
       "\n"
      ],
      "text/plain": [
       "  store_nbr city          state                          type cluster\n",
       "1 1         Quito         Pichincha                      D    13     \n",
       "2 2         Quito         Pichincha                      D    13     \n",
       "3 3         Quito         Pichincha                      D     8     \n",
       "4 4         Quito         Pichincha                      D     9     \n",
       "5 5         Santo Domingo Santo Domingo de los Tsachilas D     4     \n",
       "6 6         Quito         Pichincha                      D    13     "
      ]
     },
     "metadata": {},
     "output_type": "display_data"
    }
   ],
   "source": [
    "stores <- read.csv(\"stores.csv\", stringsAsFactors = FALSE)\n",
    "#stores <- select(stores, -store_nbr)\n",
    "\n",
    "head(stores)"
   ]
  },
  {
   "cell_type": "code",
   "execution_count": 4,
   "metadata": {
    "collapsed": false
   },
   "outputs": [
    {
     "data": {
      "text/html": [
       "<table>\n",
       "<thead><tr><th scope=col>state</th><th scope=col>num</th></tr></thead>\n",
       "<tbody>\n",
       "\t<tr><td>Pichincha                     </td><td>19                            </td></tr>\n",
       "\t<tr><td>Guayas                        </td><td>11                            </td></tr>\n",
       "\t<tr><td>Azuay                         </td><td> 3                            </td></tr>\n",
       "\t<tr><td>Manabi                        </td><td> 3                            </td></tr>\n",
       "\t<tr><td>Santo Domingo de los Tsachilas</td><td> 3                            </td></tr>\n",
       "\t<tr><td>Cotopaxi                      </td><td> 2                            </td></tr>\n",
       "\t<tr><td>El Oro                        </td><td> 2                            </td></tr>\n",
       "\t<tr><td>Los Rios                      </td><td> 2                            </td></tr>\n",
       "\t<tr><td>Tungurahua                    </td><td> 2                            </td></tr>\n",
       "\t<tr><td>Bolivar                       </td><td> 1                            </td></tr>\n",
       "\t<tr><td>Chimborazo                    </td><td> 1                            </td></tr>\n",
       "\t<tr><td>Esmeraldas                    </td><td> 1                            </td></tr>\n",
       "\t<tr><td>Imbabura                      </td><td> 1                            </td></tr>\n",
       "\t<tr><td>Loja                          </td><td> 1                            </td></tr>\n",
       "\t<tr><td>Pastaza                       </td><td> 1                            </td></tr>\n",
       "\t<tr><td>Santa Elena                   </td><td> 1                            </td></tr>\n",
       "</tbody>\n",
       "</table>\n"
      ],
      "text/latex": [
       "\\begin{tabular}{r|ll}\n",
       " state & num\\\\\n",
       "\\hline\n",
       "\t Pichincha                      & 19                            \\\\\n",
       "\t Guayas                         & 11                            \\\\\n",
       "\t Azuay                          &  3                            \\\\\n",
       "\t Manabi                         &  3                            \\\\\n",
       "\t Santo Domingo de los Tsachilas &  3                            \\\\\n",
       "\t Cotopaxi                       &  2                            \\\\\n",
       "\t El Oro                         &  2                            \\\\\n",
       "\t Los Rios                       &  2                            \\\\\n",
       "\t Tungurahua                     &  2                            \\\\\n",
       "\t Bolivar                        &  1                            \\\\\n",
       "\t Chimborazo                     &  1                            \\\\\n",
       "\t Esmeraldas                     &  1                            \\\\\n",
       "\t Imbabura                       &  1                            \\\\\n",
       "\t Loja                           &  1                            \\\\\n",
       "\t Pastaza                        &  1                            \\\\\n",
       "\t Santa Elena                    &  1                            \\\\\n",
       "\\end{tabular}\n"
      ],
      "text/markdown": [
       "\n",
       "state | num | \n",
       "|---|---|---|---|---|---|---|---|---|---|---|---|---|---|---|---|\n",
       "| Pichincha                      | 19                             | \n",
       "| Guayas                         | 11                             | \n",
       "| Azuay                          |  3                             | \n",
       "| Manabi                         |  3                             | \n",
       "| Santo Domingo de los Tsachilas |  3                             | \n",
       "| Cotopaxi                       |  2                             | \n",
       "| El Oro                         |  2                             | \n",
       "| Los Rios                       |  2                             | \n",
       "| Tungurahua                     |  2                             | \n",
       "| Bolivar                        |  1                             | \n",
       "| Chimborazo                     |  1                             | \n",
       "| Esmeraldas                     |  1                             | \n",
       "| Imbabura                       |  1                             | \n",
       "| Loja                           |  1                             | \n",
       "| Pastaza                        |  1                             | \n",
       "| Santa Elena                    |  1                             | \n",
       "\n",
       "\n"
      ],
      "text/plain": [
       "   state                          num\n",
       "1  Pichincha                      19 \n",
       "2  Guayas                         11 \n",
       "3  Azuay                           3 \n",
       "4  Manabi                          3 \n",
       "5  Santo Domingo de los Tsachilas  3 \n",
       "6  Cotopaxi                        2 \n",
       "7  El Oro                          2 \n",
       "8  Los Rios                        2 \n",
       "9  Tungurahua                      2 \n",
       "10 Bolivar                         1 \n",
       "11 Chimborazo                      1 \n",
       "12 Esmeraldas                      1 \n",
       "13 Imbabura                        1 \n",
       "14 Loja                            1 \n",
       "15 Pastaza                         1 \n",
       "16 Santa Elena                     1 "
      ]
     },
     "metadata": {},
     "output_type": "display_data"
    }
   ],
   "source": [
    "summarise_by_1 <- list(\"city\", \"type\", \"state\", \"cluster\")\n",
    "\n",
    "summarised_1 <- pmap(list(df = lapply(1:4, function(x) stores), \n",
    "                        col_name = summarise_by_1), \n",
    "                          count_by)\n",
    "    \n",
    "names(summarised_1) <- paste0(\"by_\", summarise_by_1)\n",
    "    \n",
    "summarised_1$by_state"
   ]
  },
  {
   "cell_type": "code",
   "execution_count": 5,
   "metadata": {
    "collapsed": false
   },
   "outputs": [
    {
     "data": {
      "image/png": "[encoded data removed]",
      "text/plain": [
       "Plot with title “Number of stores by State”"
      ]
     },
     "metadata": {},
     "output_type": "display_data"
    }
   ],
   "source": [
    "mids_1 <- barplot(sort(table(stores$state)), horiz = TRUE, las = 2, cex.names = 0.7, main = \"Number of stores by State\")\n",
    "text(5, mids_1, as.numeric(sort(table(stores$state))))"
   ]
  },
  {
   "cell_type": "markdown",
   "metadata": {},
   "source": [
    "<p style=\"text-align: center; color:green; font-size: 150%; font-weight: bold\">Items</p>"
   ]
  },
  {
   "cell_type": "code",
   "execution_count": 6,
   "metadata": {
    "collapsed": false
   },
   "outputs": [
    {
     "data": {
      "text/html": [
       "<table>\n",
       "<thead><tr><th scope=col>item_nbr</th><th scope=col>family</th><th scope=col>class</th><th scope=col>perishable</th></tr></thead>\n",
       "<tbody>\n",
       "\t<tr><td> 96995      </td><td>GROCERY I   </td><td>1093        </td><td>0           </td></tr>\n",
       "\t<tr><td> 99197      </td><td>GROCERY I   </td><td>1067        </td><td>0           </td></tr>\n",
       "\t<tr><td>103501      </td><td>CLEANING    </td><td>3008        </td><td>0           </td></tr>\n",
       "\t<tr><td>103520      </td><td>GROCERY I   </td><td>1028        </td><td>0           </td></tr>\n",
       "\t<tr><td>103665      </td><td>BREAD/BAKERY</td><td>2712        </td><td>1           </td></tr>\n",
       "\t<tr><td>105574      </td><td>GROCERY I   </td><td>1045        </td><td>0           </td></tr>\n",
       "</tbody>\n",
       "</table>\n"
      ],
      "text/latex": [
       "\\begin{tabular}{r|llll}\n",
       " item\\_nbr & family & class & perishable\\\\\n",
       "\\hline\n",
       "\t  96995       & GROCERY I    & 1093         & 0           \\\\\n",
       "\t  99197       & GROCERY I    & 1067         & 0           \\\\\n",
       "\t 103501       & CLEANING     & 3008         & 0           \\\\\n",
       "\t 103520       & GROCERY I    & 1028         & 0           \\\\\n",
       "\t 103665       & BREAD/BAKERY & 2712         & 1           \\\\\n",
       "\t 105574       & GROCERY I    & 1045         & 0           \\\\\n",
       "\\end{tabular}\n"
      ],
      "text/markdown": [
       "\n",
       "item_nbr | family | class | perishable | \n",
       "|---|---|---|---|---|---|\n",
       "|  96995       | GROCERY I    | 1093         | 0            | \n",
       "|  99197       | GROCERY I    | 1067         | 0            | \n",
       "| 103501       | CLEANING     | 3008         | 0            | \n",
       "| 103520       | GROCERY I    | 1028         | 0            | \n",
       "| 103665       | BREAD/BAKERY | 2712         | 1            | \n",
       "| 105574       | GROCERY I    | 1045         | 0            | \n",
       "\n",
       "\n"
      ],
      "text/plain": [
       "  item_nbr family       class perishable\n",
       "1  96995   GROCERY I    1093  0         \n",
       "2  99197   GROCERY I    1067  0         \n",
       "3 103501   CLEANING     3008  0         \n",
       "4 103520   GROCERY I    1028  0         \n",
       "5 103665   BREAD/BAKERY 2712  1         \n",
       "6 105574   GROCERY I    1045  0         "
      ]
     },
     "metadata": {},
     "output_type": "display_data"
    }
   ],
   "source": [
    "items <- read.csv(\"items.csv\", stringsAsFactors = FALSE)\n",
    "head(items)"
   ]
  },
  {
   "cell_type": "code",
   "execution_count": 7,
   "metadata": {
    "collapsed": false
   },
   "outputs": [
    {
     "data": {
      "text/html": [
       "<table>\n",
       "<thead><tr><th scope=col>family</th><th scope=col>num</th></tr></thead>\n",
       "<tbody>\n",
       "\t<tr><td>GROCERY I    </td><td>1334         </td></tr>\n",
       "\t<tr><td>BEVERAGES    </td><td> 613         </td></tr>\n",
       "\t<tr><td>CLEANING     </td><td> 446         </td></tr>\n",
       "\t<tr><td>PRODUCE      </td><td> 306         </td></tr>\n",
       "\t<tr><td>DAIRY        </td><td> 242         </td></tr>\n",
       "\t<tr><td>PERSONAL CARE</td><td> 153         </td></tr>\n",
       "\t<tr><td>BREAD/BAKERY </td><td> 134         </td></tr>\n",
       "\t<tr><td>HOME CARE    </td><td> 108         </td></tr>\n",
       "\t<tr><td>DELI         </td><td>  91         </td></tr>\n",
       "\t<tr><td>MEATS        </td><td>  84         </td></tr>\n",
       "</tbody>\n",
       "</table>\n"
      ],
      "text/latex": [
       "\\begin{tabular}{r|ll}\n",
       " family & num\\\\\n",
       "\\hline\n",
       "\t GROCERY I     & 1334         \\\\\n",
       "\t BEVERAGES     &  613         \\\\\n",
       "\t CLEANING      &  446         \\\\\n",
       "\t PRODUCE       &  306         \\\\\n",
       "\t DAIRY         &  242         \\\\\n",
       "\t PERSONAL CARE &  153         \\\\\n",
       "\t BREAD/BAKERY  &  134         \\\\\n",
       "\t HOME CARE     &  108         \\\\\n",
       "\t DELI          &   91         \\\\\n",
       "\t MEATS         &   84         \\\\\n",
       "\\end{tabular}\n"
      ],
      "text/markdown": [
       "\n",
       "family | num | \n",
       "|---|---|---|---|---|---|---|---|---|---|\n",
       "| GROCERY I     | 1334          | \n",
       "| BEVERAGES     |  613          | \n",
       "| CLEANING      |  446          | \n",
       "| PRODUCE       |  306          | \n",
       "| DAIRY         |  242          | \n",
       "| PERSONAL CARE |  153          | \n",
       "| BREAD/BAKERY  |  134          | \n",
       "| HOME CARE     |  108          | \n",
       "| DELI          |   91          | \n",
       "| MEATS         |   84          | \n",
       "\n",
       "\n"
      ],
      "text/plain": [
       "   family        num \n",
       "1  GROCERY I     1334\n",
       "2  BEVERAGES      613\n",
       "3  CLEANING       446\n",
       "4  PRODUCE        306\n",
       "5  DAIRY          242\n",
       "6  PERSONAL CARE  153\n",
       "7  BREAD/BAKERY   134\n",
       "8  HOME CARE      108\n",
       "9  DELI            91\n",
       "10 MEATS           84"
      ]
     },
     "metadata": {},
     "output_type": "display_data"
    }
   ],
   "source": [
    "summarise_by_2 <- list(\"family\", \"class\", \"perishable\")\n",
    "\n",
    "summarised_2 <- pmap(list(df = lapply(1:3, function(x) items), \n",
    "                        col_name = summarise_by_2), \n",
    "                          count_by)\n",
    "    \n",
    "names(summarised_2) <- paste0(\"by_\", summarise_by_2)\n",
    "    \n",
    "(family_top10 <- summarised_2$by_family[1:10,])"
   ]
  },
  {
   "cell_type": "code",
   "execution_count": 8,
   "metadata": {
    "collapsed": false
   },
   "outputs": [],
   "source": [
    "family_index <- which(items$family %in% family_top10$family)\n",
    "family_top_tbl <- sort(table(items$family[family_index]))"
   ]
  },
  {
   "cell_type": "code",
   "execution_count": 9,
   "metadata": {
    "collapsed": false
   },
   "outputs": [
    {
     "data": {
      "image/png": "[encoded data removed]",
      "text/plain": [
       "Plot with title “Number of items in TOP10 product families”"
      ]
     },
     "metadata": {},
     "output_type": "display_data"
    }
   ],
   "source": [
    "mids_2 <- barplot(family_top_tbl, horiz = TRUE, las = 2, cex.names = 0.7, main = \"Number of items in TOP10 product families\")\n",
    "text(500, mids_2, as.numeric(family_top_tbl))"
   ]
  },
  {
   "cell_type": "markdown",
   "metadata": {},
   "source": [
    "<p style=\"text-align: center; color:blue; font-size: 180%; font-weight: bold\">Part 2. Study of train data with PostgreSQL</p>"
   ]
  },
  {
   "cell_type": "code",
   "execution_count": 10,
   "metadata": {
    "collapsed": false
   },
   "outputs": [
    {
     "name": "stderr",
     "output_type": "stream",
     "text": [
      "Loading required package: DBI\n"
     ]
    },
    {
     "data": {
      "text/html": [
       "TRUE"
      ],
      "text/latex": [
       "TRUE"
      ],
      "text/markdown": [
       "TRUE"
      ],
      "text/plain": [
       "[1] TRUE"
      ]
     },
     "metadata": {},
     "output_type": "display_data"
    }
   ],
   "source": [
    "library(RPostgreSQL)\n",
    "\n",
    "pw <- {\"\"}\n",
    "drv <- dbDriver(\"PostgreSQL\")\n",
    "con <- dbConnect(drv, dbname = \"DB_CF_Sales\", \n",
    "                 host = \"localhost\", port = 5432,\n",
    "                 user = \"postgres\", password = pw)\n",
    "\n",
    "dbExistsTable(con, \"sales\")"
   ]
  },
  {
   "cell_type": "code",
   "execution_count": 11,
   "metadata": {
    "collapsed": false
   },
   "outputs": [
    {
     "data": {
      "text/html": [
       "<table>\n",
       "<thead><tr><th scope=col>date_sale</th><th scope=col>store_num</th><th scope=col>item_num</th><th scope=col>city</th><th scope=col>item_family</th></tr></thead>\n",
       "<tbody>\n",
       "\t<tr><td>2013-01-01  </td><td>25          </td><td>103665      </td><td>Salinas     </td><td>BREAD/BAKERY</td></tr>\n",
       "\t<tr><td>2013-01-01  </td><td>25          </td><td>105574      </td><td>Salinas     </td><td>GROCERY I   </td></tr>\n",
       "\t<tr><td>2013-01-01  </td><td>25          </td><td>105575      </td><td>Salinas     </td><td>GROCERY I   </td></tr>\n",
       "\t<tr><td>2013-01-01  </td><td>25          </td><td>108079      </td><td>Salinas     </td><td>GROCERY I   </td></tr>\n",
       "\t<tr><td>2013-01-01  </td><td>25          </td><td>108701      </td><td>Salinas     </td><td>DELI        </td></tr>\n",
       "</tbody>\n",
       "</table>\n"
      ],
      "text/latex": [
       "\\begin{tabular}{r|lllll}\n",
       " date\\_sale & store\\_num & item\\_num & city & item\\_family\\\\\n",
       "\\hline\n",
       "\t 2013-01-01   & 25           & 103665       & Salinas      & BREAD/BAKERY\\\\\n",
       "\t 2013-01-01   & 25           & 105574       & Salinas      & GROCERY I   \\\\\n",
       "\t 2013-01-01   & 25           & 105575       & Salinas      & GROCERY I   \\\\\n",
       "\t 2013-01-01   & 25           & 108079       & Salinas      & GROCERY I   \\\\\n",
       "\t 2013-01-01   & 25           & 108701       & Salinas      & DELI        \\\\\n",
       "\\end{tabular}\n"
      ],
      "text/markdown": [
       "\n",
       "date_sale | store_num | item_num | city | item_family | \n",
       "|---|---|---|---|---|\n",
       "| 2013-01-01   | 25           | 103665       | Salinas      | BREAD/BAKERY | \n",
       "| 2013-01-01   | 25           | 105574       | Salinas      | GROCERY I    | \n",
       "| 2013-01-01   | 25           | 105575       | Salinas      | GROCERY I    | \n",
       "| 2013-01-01   | 25           | 108079       | Salinas      | GROCERY I    | \n",
       "| 2013-01-01   | 25           | 108701       | Salinas      | DELI         | \n",
       "\n",
       "\n"
      ],
      "text/plain": [
       "  date_sale  store_num item_num city    item_family \n",
       "1 2013-01-01 25        103665   Salinas BREAD/BAKERY\n",
       "2 2013-01-01 25        105574   Salinas GROCERY I   \n",
       "3 2013-01-01 25        105575   Salinas GROCERY I   \n",
       "4 2013-01-01 25        108079   Salinas GROCERY I   \n",
       "5 2013-01-01 25        108701   Salinas DELI        "
      ]
     },
     "metadata": {},
     "output_type": "display_data"
    }
   ],
   "source": [
    "#Test tables/joins\n",
    "(example_mapped <- dbGetQuery(con, \n",
    "                             \"SELECT s.date_sale, s.store_num, s.item_num, st.city, i.item_family\n",
    "                              FROM sales AS s\n",
    "                              INNER JOIN stores AS st\n",
    "                              ON s.store_num = st.id_store\n",
    "                              INNER JOIN items as i\n",
    "                              ON s.item_num = i.item_id\n",
    "                              LIMIT 5\"))"
   ]
  },
  {
   "cell_type": "code",
   "execution_count": 12,
   "metadata": {
    "collapsed": false
   },
   "outputs": [
    {
     "data": {
      "text/html": [
       "<table>\n",
       "<thead><tr><th scope=col>count</th></tr></thead>\n",
       "<tbody>\n",
       "\t<tr><td>125497040</td></tr>\n",
       "</tbody>\n",
       "</table>\n"
      ],
      "text/latex": [
       "\\begin{tabular}{r|l}\n",
       " count\\\\\n",
       "\\hline\n",
       "\t 125497040\\\\\n",
       "\\end{tabular}\n"
      ],
      "text/markdown": [
       "\n",
       "count | \n",
       "|---|\n",
       "| 125497040 | \n",
       "\n",
       "\n"
      ],
      "text/plain": [
       "  count    \n",
       "1 125497040"
      ]
     },
     "metadata": {},
     "output_type": "display_data"
    }
   ],
   "source": [
    "(num_lines <- dbGetQuery(con, \n",
    "                             \"SELECT COUNT(*)\n",
    "                              FROM sales\"))\n",
    "\n",
    "#num_lines 125 497 040"
   ]
  },
  {
   "cell_type": "code",
   "execution_count": 13,
   "metadata": {
    "collapsed": false
   },
   "outputs": [
    {
     "data": {
      "text/html": [
       "<table>\n",
       "<thead><tr><th scope=col>store_num</th><th scope=col>count</th></tr></thead>\n",
       "<tbody>\n",
       "\t<tr><td>1 </td><td>32</td></tr>\n",
       "\t<tr><td>2 </td><td>33</td></tr>\n",
       "\t<tr><td>3 </td><td>33</td></tr>\n",
       "\t<tr><td>4 </td><td>33</td></tr>\n",
       "\t<tr><td>5 </td><td>33</td></tr>\n",
       "\t<tr><td>6 </td><td>33</td></tr>\n",
       "</tbody>\n",
       "</table>\n"
      ],
      "text/latex": [
       "\\begin{tabular}{r|ll}\n",
       " store\\_num & count\\\\\n",
       "\\hline\n",
       "\t 1  & 32\\\\\n",
       "\t 2  & 33\\\\\n",
       "\t 3  & 33\\\\\n",
       "\t 4  & 33\\\\\n",
       "\t 5  & 33\\\\\n",
       "\t 6  & 33\\\\\n",
       "\\end{tabular}\n"
      ],
      "text/markdown": [
       "\n",
       "store_num | count | \n",
       "|---|---|---|---|---|---|\n",
       "| 1  | 32 | \n",
       "| 2  | 33 | \n",
       "| 3  | 33 | \n",
       "| 4  | 33 | \n",
       "| 5  | 33 | \n",
       "| 6  | 33 | \n",
       "\n",
       "\n"
      ],
      "text/plain": [
       "  store_num count\n",
       "1 1         32   \n",
       "2 2         33   \n",
       "3 3         33   \n",
       "4 4         33   \n",
       "5 5         33   \n",
       "6 6         33   "
      ]
     },
     "metadata": {},
     "output_type": "display_data"
    }
   ],
   "source": [
    "#check if a store has full assortment in terms of item family. Executes in ~8 min on my PC\n",
    "store_assortment <- dbGetQuery(con, \n",
    "                             \"SELECT s.store_num, COUNT(DISTINCT(i.item_family))\n",
    "                              FROM sales AS s\n",
    "                              INNER JOIN stores AS st\n",
    "                              ON s.store_num = st.id_store\n",
    "                              INNER JOIN items as i\n",
    "                              ON s.item_num = i.item_id\n",
    "                              GROUP BY s.store_num\")\n",
    "head(store_assortment)"
   ]
  },
  {
   "cell_type": "code",
   "execution_count": 14,
   "metadata": {
    "collapsed": true
   },
   "outputs": [],
   "source": [
    "#store assortment for each store by item family. Executes in ~2 min on my PC\n",
    "store_assortment_details <- dbGetQuery(con, \n",
    "                               \"SELECT DISTINCT st.id_store, i.item_family\n",
    "                                FROM sales\n",
    "                                INNER JOIN stores AS st\n",
    "                                ON sales.store_num = st.id_store\n",
    "                                INNER JOIN items AS i\n",
    "                                ON sales.item_num = i.item_id\n",
    "                                ORDER BY st.id_store ASC\")\n"
   ]
  },
  {
   "cell_type": "code",
   "execution_count": 15,
   "metadata": {
    "collapsed": false
   },
   "outputs": [
    {
     "data": {
      "text/html": [
       "<table>\n",
       "<thead><tr><th scope=col>id_store</th><th scope=col>item_family</th></tr></thead>\n",
       "<tbody>\n",
       "\t<tr><td> 1             </td><td>BABY CARE      </td></tr>\n",
       "\t<tr><td> 9             </td><td>BOOKS          </td></tr>\n",
       "\t<tr><td>10             </td><td>BOOKS          </td></tr>\n",
       "\t<tr><td>11             </td><td>BOOKS          </td></tr>\n",
       "\t<tr><td>12             </td><td>BOOKS          </td></tr>\n",
       "\t<tr><td>13             </td><td>BABY CARE      </td></tr>\n",
       "\t<tr><td>13             </td><td>BOOKS          </td></tr>\n",
       "\t<tr><td>14             </td><td>LAWN AND GARDEN</td></tr>\n",
       "\t<tr><td>14             </td><td>BOOKS          </td></tr>\n",
       "\t<tr><td>15             </td><td>BOOKS          </td></tr>\n",
       "\t<tr><td>16             </td><td>BOOKS          </td></tr>\n",
       "\t<tr><td>16             </td><td>LADIESWEAR     </td></tr>\n",
       "\t<tr><td>17             </td><td>BOOKS          </td></tr>\n",
       "\t<tr><td>18             </td><td>BOOKS          </td></tr>\n",
       "\t<tr><td>19             </td><td>BOOKS          </td></tr>\n",
       "\t<tr><td>20             </td><td>BOOKS          </td></tr>\n",
       "\t<tr><td>21             </td><td>BOOKS          </td></tr>\n",
       "\t<tr><td>22             </td><td>BOOKS          </td></tr>\n",
       "\t<tr><td>23             </td><td>BABY CARE      </td></tr>\n",
       "\t<tr><td>25             </td><td>LADIESWEAR     </td></tr>\n",
       "\t<tr><td>28             </td><td>BOOKS          </td></tr>\n",
       "\t<tr><td>28             </td><td>LADIESWEAR     </td></tr>\n",
       "\t<tr><td>29             </td><td>BOOKS          </td></tr>\n",
       "\t<tr><td>29             </td><td>LADIESWEAR     </td></tr>\n",
       "\t<tr><td>30             </td><td>BOOKS          </td></tr>\n",
       "\t<tr><td>30             </td><td>LAWN AND GARDEN</td></tr>\n",
       "\t<tr><td>31             </td><td>BOOKS          </td></tr>\n",
       "\t<tr><td>32             </td><td>BOOKS          </td></tr>\n",
       "\t<tr><td>32             </td><td>LADIESWEAR     </td></tr>\n",
       "\t<tr><td>33             </td><td>BOOKS          </td></tr>\n",
       "\t<tr><td>33             </td><td>LADIESWEAR     </td></tr>\n",
       "\t<tr><td>34             </td><td>BOOKS          </td></tr>\n",
       "\t<tr><td>35             </td><td>BOOKS          </td></tr>\n",
       "\t<tr><td>35             </td><td>LADIESWEAR     </td></tr>\n",
       "\t<tr><td>36             </td><td>BOOKS          </td></tr>\n",
       "\t<tr><td>39             </td><td>BOOKS          </td></tr>\n",
       "\t<tr><td>40             </td><td>BOOKS          </td></tr>\n",
       "\t<tr><td>40             </td><td>LADIESWEAR     </td></tr>\n",
       "\t<tr><td>43             </td><td>BOOKS          </td></tr>\n",
       "\t<tr><td>43             </td><td>LADIESWEAR     </td></tr>\n",
       "\t<tr><td>44             </td><td>BABY CARE      </td></tr>\n",
       "\t<tr><td>45             </td><td>BABY CARE      </td></tr>\n",
       "\t<tr><td>46             </td><td>BABY CARE      </td></tr>\n",
       "\t<tr><td>47             </td><td>BABY CARE      </td></tr>\n",
       "\t<tr><td>48             </td><td>BABY CARE      </td></tr>\n",
       "\t<tr><td>49             </td><td>BABY CARE      </td></tr>\n",
       "\t<tr><td>50             </td><td>BABY CARE      </td></tr>\n",
       "\t<tr><td>51             </td><td>BABY CARE      </td></tr>\n",
       "\t<tr><td>52             </td><td>BABY CARE      </td></tr>\n",
       "\t<tr><td>52             </td><td>BOOKS          </td></tr>\n",
       "\t<tr><td>54             </td><td>BOOKS          </td></tr>\n",
       "\t<tr><td>54             </td><td>LAWN AND GARDEN</td></tr>\n",
       "\t<tr><td>54             </td><td>LADIESWEAR     </td></tr>\n",
       "</tbody>\n",
       "</table>\n"
      ],
      "text/latex": [
       "\\begin{tabular}{r|ll}\n",
       " id\\_store & item\\_family\\\\\n",
       "\\hline\n",
       "\t  1              & BABY CARE      \\\\\n",
       "\t  9              & BOOKS          \\\\\n",
       "\t 10              & BOOKS          \\\\\n",
       "\t 11              & BOOKS          \\\\\n",
       "\t 12              & BOOKS          \\\\\n",
       "\t 13              & BABY CARE      \\\\\n",
       "\t 13              & BOOKS          \\\\\n",
       "\t 14              & LAWN AND GARDEN\\\\\n",
       "\t 14              & BOOKS          \\\\\n",
       "\t 15              & BOOKS          \\\\\n",
       "\t 16              & BOOKS          \\\\\n",
       "\t 16              & LADIESWEAR     \\\\\n",
       "\t 17              & BOOKS          \\\\\n",
       "\t 18              & BOOKS          \\\\\n",
       "\t 19              & BOOKS          \\\\\n",
       "\t 20              & BOOKS          \\\\\n",
       "\t 21              & BOOKS          \\\\\n",
       "\t 22              & BOOKS          \\\\\n",
       "\t 23              & BABY CARE      \\\\\n",
       "\t 25              & LADIESWEAR     \\\\\n",
       "\t 28              & BOOKS          \\\\\n",
       "\t 28              & LADIESWEAR     \\\\\n",
       "\t 29              & BOOKS          \\\\\n",
       "\t 29              & LADIESWEAR     \\\\\n",
       "\t 30              & BOOKS          \\\\\n",
       "\t 30              & LAWN AND GARDEN\\\\\n",
       "\t 31              & BOOKS          \\\\\n",
       "\t 32              & BOOKS          \\\\\n",
       "\t 32              & LADIESWEAR     \\\\\n",
       "\t 33              & BOOKS          \\\\\n",
       "\t 33              & LADIESWEAR     \\\\\n",
       "\t 34              & BOOKS          \\\\\n",
       "\t 35              & BOOKS          \\\\\n",
       "\t 35              & LADIESWEAR     \\\\\n",
       "\t 36              & BOOKS          \\\\\n",
       "\t 39              & BOOKS          \\\\\n",
       "\t 40              & BOOKS          \\\\\n",
       "\t 40              & LADIESWEAR     \\\\\n",
       "\t 43              & BOOKS          \\\\\n",
       "\t 43              & LADIESWEAR     \\\\\n",
       "\t 44              & BABY CARE      \\\\\n",
       "\t 45              & BABY CARE      \\\\\n",
       "\t 46              & BABY CARE      \\\\\n",
       "\t 47              & BABY CARE      \\\\\n",
       "\t 48              & BABY CARE      \\\\\n",
       "\t 49              & BABY CARE      \\\\\n",
       "\t 50              & BABY CARE      \\\\\n",
       "\t 51              & BABY CARE      \\\\\n",
       "\t 52              & BABY CARE      \\\\\n",
       "\t 52              & BOOKS          \\\\\n",
       "\t 54              & BOOKS          \\\\\n",
       "\t 54              & LAWN AND GARDEN\\\\\n",
       "\t 54              & LADIESWEAR     \\\\\n",
       "\\end{tabular}\n"
      ],
      "text/markdown": [
       "\n",
       "id_store | item_family | \n",
       "|---|---|---|---|---|---|---|---|---|---|---|---|---|---|---|---|---|---|---|---|---|---|---|---|---|---|---|---|---|---|---|---|---|---|---|---|---|---|---|---|---|---|---|---|---|---|---|---|---|---|---|---|---|\n",
       "|  1              | BABY CARE       | \n",
       "|  9              | BOOKS           | \n",
       "| 10              | BOOKS           | \n",
       "| 11              | BOOKS           | \n",
       "| 12              | BOOKS           | \n",
       "| 13              | BABY CARE       | \n",
       "| 13              | BOOKS           | \n",
       "| 14              | LAWN AND GARDEN | \n",
       "| 14              | BOOKS           | \n",
       "| 15              | BOOKS           | \n",
       "| 16              | BOOKS           | \n",
       "| 16              | LADIESWEAR      | \n",
       "| 17              | BOOKS           | \n",
       "| 18              | BOOKS           | \n",
       "| 19              | BOOKS           | \n",
       "| 20              | BOOKS           | \n",
       "| 21              | BOOKS           | \n",
       "| 22              | BOOKS           | \n",
       "| 23              | BABY CARE       | \n",
       "| 25              | LADIESWEAR      | \n",
       "| 28              | BOOKS           | \n",
       "| 28              | LADIESWEAR      | \n",
       "| 29              | BOOKS           | \n",
       "| 29              | LADIESWEAR      | \n",
       "| 30              | BOOKS           | \n",
       "| 30              | LAWN AND GARDEN | \n",
       "| 31              | BOOKS           | \n",
       "| 32              | BOOKS           | \n",
       "| 32              | LADIESWEAR      | \n",
       "| 33              | BOOKS           | \n",
       "| 33              | LADIESWEAR      | \n",
       "| 34              | BOOKS           | \n",
       "| 35              | BOOKS           | \n",
       "| 35              | LADIESWEAR      | \n",
       "| 36              | BOOKS           | \n",
       "| 39              | BOOKS           | \n",
       "| 40              | BOOKS           | \n",
       "| 40              | LADIESWEAR      | \n",
       "| 43              | BOOKS           | \n",
       "| 43              | LADIESWEAR      | \n",
       "| 44              | BABY CARE       | \n",
       "| 45              | BABY CARE       | \n",
       "| 46              | BABY CARE       | \n",
       "| 47              | BABY CARE       | \n",
       "| 48              | BABY CARE       | \n",
       "| 49              | BABY CARE       | \n",
       "| 50              | BABY CARE       | \n",
       "| 51              | BABY CARE       | \n",
       "| 52              | BABY CARE       | \n",
       "| 52              | BOOKS           | \n",
       "| 54              | BOOKS           | \n",
       "| 54              | LAWN AND GARDEN | \n",
       "| 54              | LADIESWEAR      | \n",
       "\n",
       "\n"
      ],
      "text/plain": [
       "   id_store item_family    \n",
       "1   1       BABY CARE      \n",
       "2   9       BOOKS          \n",
       "3  10       BOOKS          \n",
       "4  11       BOOKS          \n",
       "5  12       BOOKS          \n",
       "6  13       BABY CARE      \n",
       "7  13       BOOKS          \n",
       "8  14       LAWN AND GARDEN\n",
       "9  14       BOOKS          \n",
       "10 15       BOOKS          \n",
       "11 16       BOOKS          \n",
       "12 16       LADIESWEAR     \n",
       "13 17       BOOKS          \n",
       "14 18       BOOKS          \n",
       "15 19       BOOKS          \n",
       "16 20       BOOKS          \n",
       "17 21       BOOKS          \n",
       "18 22       BOOKS          \n",
       "19 23       BABY CARE      \n",
       "20 25       LADIESWEAR     \n",
       "21 28       BOOKS          \n",
       "22 28       LADIESWEAR     \n",
       "23 29       BOOKS          \n",
       "24 29       LADIESWEAR     \n",
       "25 30       BOOKS          \n",
       "26 30       LAWN AND GARDEN\n",
       "27 31       BOOKS          \n",
       "28 32       BOOKS          \n",
       "29 32       LADIESWEAR     \n",
       "30 33       BOOKS          \n",
       "31 33       LADIESWEAR     \n",
       "32 34       BOOKS          \n",
       "33 35       BOOKS          \n",
       "34 35       LADIESWEAR     \n",
       "35 36       BOOKS          \n",
       "36 39       BOOKS          \n",
       "37 40       BOOKS          \n",
       "38 40       LADIESWEAR     \n",
       "39 43       BOOKS          \n",
       "40 43       LADIESWEAR     \n",
       "41 44       BABY CARE      \n",
       "42 45       BABY CARE      \n",
       "43 46       BABY CARE      \n",
       "44 47       BABY CARE      \n",
       "45 48       BABY CARE      \n",
       "46 49       BABY CARE      \n",
       "47 50       BABY CARE      \n",
       "48 51       BABY CARE      \n",
       "49 52       BABY CARE      \n",
       "50 52       BOOKS          \n",
       "51 54       BOOKS          \n",
       "52 54       LAWN AND GARDEN\n",
       "53 54       LADIESWEAR     "
      ]
     },
     "metadata": {},
     "output_type": "display_data"
    }
   ],
   "source": [
    "#Find what item families are missing in each store\n",
    "lookup <- expand.grid(id_store = 1:54, item_family = unique(store_assortment_details$item_family))\n",
    "\n",
    "lookup %>%\n",
    "    anti_join(store_assortment_details, by = c(\"id_store\", \"item_family\")) %>%\n",
    "    arrange(id_store)"
   ]
  }
 ],
 "metadata": {
  "kernelspec": {
   "display_name": "R",
   "language": "R",
   "name": "ir"
  },
  "language_info": {
   "codemirror_mode": "r",
   "file_extension": ".r",
   "mimetype": "text/x-r-source",
   "name": "R",
   "pygments_lexer": "r",
   "version": "3.3.2"
  }
 },
 "nbformat": 4,
 "nbformat_minor": 2
}
